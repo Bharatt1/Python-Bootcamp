{
 "cells": [
  {
   "cell_type": "code",
   "execution_count": 2,
   "metadata": {},
   "outputs": [
    {
     "name": "stdout",
     "output_type": "stream",
     "text": [
      "Tummy Hungry\n"
     ]
    }
   ],
   "source": [
    "eaten = False\n",
    "\n",
    "if eaten == True:\n",
    "    print('Tummy Full')\n",
    "else:\n",
    "    print('Tummy Hungry')"
   ]
  },
  {
   "cell_type": "code",
   "execution_count": 5,
   "metadata": {},
   "outputs": [
    {
     "name": "stdout",
     "output_type": "stream",
     "text": [
      "You suck\n"
     ]
    }
   ],
   "source": [
    "guess = 10\n",
    "\n",
    "if guess == 7:\n",
    "    print('Close')\n",
    "elif guess == 8:\n",
    "    print('Not so close')\n",
    "if guess <= 6:\n",
    "    print('Too low')\n",
    "else:\n",
    "    print('You suck')"
   ]
  },
  {
   "cell_type": "code",
   "execution_count": 6,
   "metadata": {},
   "outputs": [
    {
     "data": {
      "text/plain": [
       "True"
      ]
     },
     "execution_count": 6,
     "metadata": {},
     "output_type": "execute_result"
    }
   ],
   "source": [
    "b = 10\n",
    "c = 20\n",
    "b<c"
   ]
  },
  {
   "cell_type": "code",
   "execution_count": 12,
   "metadata": {},
   "outputs": [
    {
     "name": "stdout",
     "output_type": "stream",
     "text": [
      "10\n"
     ]
    }
   ],
   "source": [
    "x = 10.5\n",
    "print(int(x))"
   ]
  },
  {
   "cell_type": "code",
   "execution_count": 15,
   "metadata": {},
   "outputs": [
    {
     "name": "stdout",
     "output_type": "stream",
     "text": [
      "(8, 7, 5)\n"
     ]
    }
   ],
   "source": [
    "l = [4,5,7,yummy]\n",
    "type(l) # list # takes in all inputs\n",
    "t= (8,7,5)\n",
    "type(t) # tuple # only takes one type of datatype\n",
    "set = {4, 7, 8, 9}\n",
    "type (set) # set # sets require unique elements\n",
    "d = {\"maddy\" : \"iphone\", \"bharat\" : \"Bestphoneever\", \"blah\" : \"blahphone\"}\n",
    "type(d) # dictionary, assigns a name to an object\n",
    "d.keys() # names (keys)\n",
    "d.values() # values (objects)\n",
    "d[\"maddy\"]\n",
    "d.get(\"maddy\")"
   ]
  },
  {
   "cell_type": "code",
   "execution_count": 27,
   "metadata": {},
   "outputs": [
    {
     "name": "stdout",
     "output_type": "stream",
     "text": [
      "Enter something: 10\n",
      "15\n"
     ]
    }
   ],
   "source": [
    "x = input(\"Enter something: \")\n",
    "x = int(x)\n",
    "Final = x+5\n",
    "print(Final)\n",
    "# age-int(input(\"how old are you?\"))"
   ]
  },
  {
   "cell_type": "code",
   "execution_count": 31,
   "metadata": {},
   "outputs": [
    {
     "name": "stdout",
     "output_type": "stream",
     "text": [
      "how old are you?10\n"
     ]
    },
    {
     "data": {
      "text/plain": [
       "int"
      ]
     },
     "execution_count": 31,
     "metadata": {},
     "output_type": "execute_result"
    }
   ],
   "source": [
    "a = int(input(\"how old are you?\"))\n",
    "type(a)"
   ]
  },
  {
   "cell_type": "code",
   "execution_count": 33,
   "metadata": {},
   "outputs": [
    {
     "name": "stdout",
     "output_type": "stream",
     "text": [
      "What is your name?Bharat\n",
      "What is your age? 26\n",
      "Bharat will turn 100 years old in 74  years\n"
     ]
    }
   ],
   "source": [
    "name = input(\"What is your name?\")\n",
    "age = int(input(\"What is your age? \"))\n",
    "z = 100\n",
    "print(name, \"will turn 100 years old in\", z-age, \"years\")\n",
    "# what year will you be 100 years old\n",
    "# year = 2020 - age + 100"
   ]
  },
  {
   "cell_type": "code",
   "execution_count": 49,
   "metadata": {},
   "outputs": [
    {
     "name": "stdout",
     "output_type": "stream",
     "text": [
      "[3, 6, 7, 8, 12]\n",
      "['Maddy', 'Paul', 'Bharat', 'Robert']\n",
      "['Maddy', 'Bharat', 'Robert']\n",
      "[3, 7, 8, 12]\n"
     ]
    },
    {
     "data": {
      "text/plain": [
       "[3, 5, 7, 8, 12, 20, 100]"
      ]
     },
     "execution_count": 49,
     "metadata": {},
     "output_type": "execute_result"
    }
   ],
   "source": [
    "x = [3,6,7,8]\n",
    "y = [\"Maddy\", \"Paul\", \"Bharat\"]\n",
    "x.append(12) # append helps you add an input into the end of the list\n",
    "print(x)\n",
    "y.append(\"Robert\")\n",
    "print(y)\n",
    "y.remove(\"Paul\")\n",
    "print(y)\n",
    "x.pop(1) # removes the first index from x\n",
    "print(x)\n",
    "\n",
    "sorted ([12, 3, 7, 20, 8, 100, 5])"
   ]
  },
  {
   "cell_type": "code",
   "execution_count": 58,
   "metadata": {},
   "outputs": [
    {
     "name": "stdout",
     "output_type": "stream",
     "text": [
      "[34, 54, 67, 89, 43, 94]\n",
      "[34, 54, 11, 67, 89, 43, 94]\n",
      "[34, 54, 11, 67, 89, 43, 94, 11]\n"
     ]
    }
   ],
   "source": [
    "x = [34, 54, 67, 89, 11, 43, 94]\n",
    "x.pop(4)\n",
    "print(x)\n",
    "x.insert(2, 11) # add 11 into the 2nd index\n",
    "print(x)\n",
    "x.append(11)\n",
    "print(x)"
   ]
  },
  {
   "cell_type": "code",
   "execution_count": 61,
   "metadata": {},
   "outputs": [
    {
     "name": "stdout",
     "output_type": "stream",
     "text": [
      "['green', 'pink', 'black', 'white', 'red', 'yellow']\n"
     ]
    }
   ],
   "source": [
    "from random import shuffle\n",
    "c = [\"red\", \"green\", \"white\", \"black\", \"pink\", \"yellow\"]\n",
    "shuffle(c) # changes the order randomly\n",
    "print(c)"
   ]
  },
  {
   "cell_type": "code",
   "execution_count": 63,
   "metadata": {},
   "outputs": [
    {
     "name": "stdout",
     "output_type": "stream",
     "text": [
      "[[1, 4, 5], [-5, 6, 7]]\n"
     ]
    }
   ],
   "source": [
    "A = [[1,4,5], [-5,6,7]]  # matrix\n",
    "print(A)"
   ]
  },
  {
   "cell_type": "code",
   "execution_count": 65,
   "metadata": {},
   "outputs": [
    {
     "name": "stdout",
     "output_type": "stream",
     "text": [
      "{0: 10, 1: 20, 2: 30}\n"
     ]
    }
   ],
   "source": [
    "d = {0:10,1:20}\n",
    "d.update({2:30})   # insert in a dictionary\n",
    "print(d)"
   ]
  },
  {
   "cell_type": "code",
   "execution_count": 67,
   "metadata": {},
   "outputs": [
    {
     "name": "stdout",
     "output_type": "stream",
     "text": [
      "{'Ten': 10, 'Twenty': 20, 'Thirty': 30}\n"
     ]
    }
   ],
   "source": [
    "keys = [\"Ten\", \"Twenty\", \"Thirty\"]\n",
    "values = [10,20,30]\n",
    "sample_d = dict(zip(keys,values))    # zip's both lists together to create a dict\n",
    "print (sample_d)"
   ]
  },
  {
   "cell_type": "code",
   "execution_count": 66,
   "metadata": {},
   "outputs": [
    {
     "name": "stdout",
     "output_type": "stream",
     "text": [
      "['a', 'b', 'x']\n"
     ]
    }
   ],
   "source": [
    "Mut = [\"a\", \"b\", \"c\"]\n",
    "id(Mut) # the address where the variable is stored\n",
    "Mut[2] = 'x'\n",
    "print(Mut) # changes the 3rd index to x"
   ]
  },
  {
   "cell_type": "code",
   "execution_count": 71,
   "metadata": {},
   "outputs": [
    {
     "ename": "TypeError",
     "evalue": "'tuple' object does not support item assignment",
     "output_type": "error",
     "traceback": [
      "\u001b[1;31m---------------------------------------------------------------------------\u001b[0m",
      "\u001b[1;31mTypeError\u001b[0m                                 Traceback (most recent call last)",
      "\u001b[1;32m<ipython-input-71-a1667b11bcea>\u001b[0m in \u001b[0;36m<module>\u001b[1;34m\u001b[0m\n\u001b[0;32m      1\u001b[0m \u001b[0mInMut\u001b[0m \u001b[1;33m=\u001b[0m \u001b[1;33m(\u001b[0m\u001b[1;34m\"a\"\u001b[0m\u001b[1;33m,\u001b[0m \u001b[1;34m\"b\"\u001b[0m\u001b[1;33m,\u001b[0m \u001b[1;34m\"c\"\u001b[0m\u001b[1;33m)\u001b[0m\u001b[1;33m\u001b[0m\u001b[1;33m\u001b[0m\u001b[0m\n\u001b[1;32m----> 2\u001b[1;33m \u001b[0mInMut\u001b[0m\u001b[1;33m[\u001b[0m\u001b[1;36m2\u001b[0m\u001b[1;33m]\u001b[0m \u001b[1;33m=\u001b[0m \u001b[1;34m'x'\u001b[0m\u001b[1;33m\u001b[0m\u001b[1;33m\u001b[0m\u001b[0m\n\u001b[0m",
      "\u001b[1;31mTypeError\u001b[0m: 'tuple' object does not support item assignment"
     ]
    }
   ],
   "source": [
    "InMut = (\"a\", \"b\", \"c\")\n",
    "InMut[2] = 'x'   # InMutable objects such as tuples can't be changed"
   ]
  },
  {
   "cell_type": "code",
   "execution_count": 78,
   "metadata": {},
   "outputs": [
    {
     "name": "stdout",
     "output_type": "stream",
     "text": [
      "Excel file\n"
     ]
    }
   ],
   "source": [
    "x = \"Myfile.xls\" # use if statement to determine whether a file is excel or not\n",
    "if x.endswith(\".xls\"):\n",
    "    print(\"Excel file\")\n",
    "else:\n",
    "    print(\"not excel file\")\n"
   ]
  },
  {
   "cell_type": "code",
   "execution_count": 79,
   "metadata": {},
   "outputs": [
    {
     "name": "stdout",
     "output_type": "stream",
     "text": [
      "Hi Matt\n",
      "Hi Not Joe\n"
     ]
    }
   ],
   "source": [
    "x = \"matt\"\n",
    "if (x==\"matt\"):\n",
    "    print(\"Hi Matt\")\n",
    "if (x != \"Joe\"):\n",
    "    print(\"Hi Not Joe\")"
   ]
  },
  {
   "cell_type": "code",
   "execution_count": 84,
   "metadata": {},
   "outputs": [
    {
     "name": "stdout",
     "output_type": "stream",
     "text": [
      "woohooo\n"
     ]
    }
   ],
   "source": [
    "y = 93\n",
    "if  (y >= 85 and y <= 97):\n",
    "    print(\"woohooo\")\n",
    "else:\n",
    "    print(\"you suck\")"
   ]
  },
  {
   "cell_type": "code",
   "execution_count": 85,
   "metadata": {},
   "outputs": [
    {
     "name": "stdout",
     "output_type": "stream",
     "text": [
      "X is smaller than Y\n"
     ]
    }
   ],
   "source": [
    "x = 10\n",
    "y = 20\n",
    "if x==y:\n",
    "    print(\"equal\")\n",
    "elif x>y:\n",
    "    print(\"X is larger than Y\")\n",
    "else:\n",
    "    print(\"X is smaller than Y\")"
   ]
  },
  {
   "cell_type": "code",
   "execution_count": 107,
   "metadata": {},
   "outputs": [
    {
     "name": "stdout",
     "output_type": "stream",
     "text": [
      "At least one of the conditions is satisfied\n"
     ]
    }
   ],
   "source": [
    "x = 8   # whether x > 3 or y is even\n",
    "y = 15\n",
    "if (x > 3 or y % 2 == 0):\n",
    "    print(\"At least one of the conditions is satisfied\")\n",
    "elif (x <= 3 and y % 2 == 1):\n",
    "    print(\"Neither condition is satisfied\")"
   ]
  },
  {
   "cell_type": "code",
   "execution_count": 105,
   "metadata": {},
   "outputs": [
    {
     "name": "stdout",
     "output_type": "stream",
     "text": [
      "Input a number:4\n",
      "the number is even\n"
     ]
    }
   ],
   "source": [
    "x = int(input(\"Input a number:\"))\n",
    "if (x % 2 == 0):\n",
    "    print(\"the number is even\")\n",
    "else:\n",
    "    print(\"The number is odd\")"
   ]
  },
  {
   "cell_type": "code",
   "execution_count": 120,
   "metadata": {},
   "outputs": [
    {
     "name": "stdout",
     "output_type": "stream",
     "text": [
      "range(1, 11)\n"
     ]
    }
   ],
   "source": [
    "x = range(1,11)\n",
    "print(x)"
   ]
  },
  {
   "cell_type": "code",
   "execution_count": 123,
   "metadata": {},
   "outputs": [
    {
     "name": "stdout",
     "output_type": "stream",
     "text": [
      "1\n",
      "3\n",
      "5\n",
      "7\n",
      "9\n"
     ]
    }
   ],
   "source": [
    "for i in range(1,11, 2):    # could do opposite (11, 1, -2)\n",
    "    print(i)"
   ]
  },
  {
   "cell_type": "code",
   "execution_count": 122,
   "metadata": {},
   "outputs": [
    {
     "name": "stdout",
     "output_type": "stream",
     "text": [
      "[14, 3, 7, 2]\n",
      "['ringo', 'paul', 'john']\n"
     ]
    }
   ],
   "source": [
    "x = [14,3,7,2]\n",
    "y = [\"ringo\", \"paul\", \"john\"]\n",
    "\n",
    "for i in (x,y):\n",
    "    print(i)"
   ]
  },
  {
   "cell_type": "code",
   "execution_count": 125,
   "metadata": {},
   "outputs": [
    {
     "name": "stdout",
     "output_type": "stream",
     "text": [
      "3\n",
      "6\n",
      "9\n",
      "12\n",
      "15\n",
      "18\n",
      "21\n",
      "24\n",
      "27\n",
      "30\n"
     ]
    }
   ],
   "source": [
    "n=3\n",
    "for i in range(1,11):\n",
    "    product = n*i\n",
    "    print(product)"
   ]
  },
  {
   "cell_type": "code",
   "execution_count": 129,
   "metadata": {},
   "outputs": [
    {
     "name": "stdout",
     "output_type": "stream",
     "text": [
      "-10\n",
      "-9\n",
      "-8\n",
      "-7\n",
      "-6\n",
      "-5\n",
      "-4\n",
      "-3\n",
      "-2\n",
      "-1\n"
     ]
    }
   ],
   "source": [
    "for i in range(-10, 0):\n",
    "    print(i)"
   ]
  },
  {
   "cell_type": "code",
   "execution_count": 130,
   "metadata": {},
   "outputs": [
    {
     "name": "stdout",
     "output_type": "stream",
     "text": [
      "0\n",
      "1\n",
      "2\n",
      "3\n",
      "4\n",
      "5\n",
      "6\n",
      "7\n",
      "8\n",
      "9\n",
      "10\n"
     ]
    }
   ],
   "source": [
    "i = 0  # i start from 0, while i is less than equal to 10, print all of i's in an increment of 1\n",
    "while i <= 10:\n",
    "    print(i)\n",
    "    i += 1   # i = i + 1"
   ]
  },
  {
   "cell_type": "code",
   "execution_count": 136,
   "metadata": {},
   "outputs": [
    {
     "ename": "TypeError",
     "evalue": "unsupported operand type(s) for %: 'list' and 'int'",
     "output_type": "error",
     "traceback": [
      "\u001b[1;31m---------------------------------------------------------------------------\u001b[0m",
      "\u001b[1;31mTypeError\u001b[0m                                 Traceback (most recent call last)",
      "\u001b[1;32m<ipython-input-136-51a23a9098d6>\u001b[0m in \u001b[0;36m<module>\u001b[1;34m\u001b[0m\n\u001b[0;32m      1\u001b[0m \u001b[0mi\u001b[0m \u001b[1;33m=\u001b[0m \u001b[1;33m[\u001b[0m\u001b[1;36m12\u001b[0m\u001b[1;33m,\u001b[0m \u001b[1;36m15\u001b[0m\u001b[1;33m,\u001b[0m \u001b[1;36m32\u001b[0m\u001b[1;33m,\u001b[0m \u001b[1;36m42\u001b[0m\u001b[1;33m,\u001b[0m \u001b[1;36m55\u001b[0m\u001b[1;33m,\u001b[0m \u001b[1;36m75\u001b[0m\u001b[1;33m,\u001b[0m \u001b[1;36m122\u001b[0m\u001b[1;33m,\u001b[0m \u001b[1;36m132\u001b[0m\u001b[1;33m,\u001b[0m \u001b[1;36m150\u001b[0m\u001b[1;33m,\u001b[0m \u001b[1;36m180\u001b[0m\u001b[1;33m,\u001b[0m \u001b[1;36m200\u001b[0m\u001b[1;33m]\u001b[0m\u001b[1;33m\u001b[0m\u001b[1;33m\u001b[0m\u001b[0m\n\u001b[1;32m----> 2\u001b[1;33m \u001b[1;32mwhile\u001b[0m \u001b[0mi\u001b[0m \u001b[1;33m%\u001b[0m \u001b[1;36m5\u001b[0m \u001b[1;33m==\u001b[0m \u001b[1;36m0\u001b[0m \u001b[1;32mand\u001b[0m \u001b[0mi\u001b[0m \u001b[1;33m<=\u001b[0m \u001b[1;36m150\u001b[0m\u001b[1;33m:\u001b[0m\u001b[1;33m\u001b[0m\u001b[1;33m\u001b[0m\u001b[0m\n\u001b[0m\u001b[0;32m      3\u001b[0m     \u001b[0mprint\u001b[0m\u001b[1;33m(\u001b[0m\u001b[0mi\u001b[0m\u001b[1;33m)\u001b[0m\u001b[1;33m\u001b[0m\u001b[1;33m\u001b[0m\u001b[0m\n",
      "\u001b[1;31mTypeError\u001b[0m: unsupported operand type(s) for %: 'list' and 'int'"
     ]
    }
   ],
   "source": [
    "i = [12, 15, 32, 42, 55, 75, 122, 132, 150, 180, 200]\n",
    "while i % 5 == 0 and i <= 150:\n",
    "    print(i)"
   ]
  }
 ],
 "metadata": {
  "kernelspec": {
   "display_name": "Python 3",
   "language": "python",
   "name": "python3"
  },
  "language_info": {
   "codemirror_mode": {
    "name": "ipython",
    "version": 3
   },
   "file_extension": ".py",
   "mimetype": "text/x-python",
   "name": "python",
   "nbconvert_exporter": "python",
   "pygments_lexer": "ipython3",
   "version": "3.7.4"
  }
 },
 "nbformat": 4,
 "nbformat_minor": 2
}
